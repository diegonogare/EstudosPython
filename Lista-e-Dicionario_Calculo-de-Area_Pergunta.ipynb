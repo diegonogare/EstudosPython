{
 "cells": [
  {
   "cell_type": "markdown",
   "metadata": {
    "id": "BaZT_3HltXB7"
   },
   "source": [
    "# Cálculo da área de imóvel"
   ]
  },
  {
   "cell_type": "markdown",
   "metadata": {
    "id": "CM6RnK11uWWn"
   },
   "source": [
    "## Cálculos diretos\n",
    "\n"
   ]
  },
  {
   "cell_type": "markdown",
   "metadata": {
    "id": "dp_PbIkntbsD"
   },
   "source": [
    "Como ponto de partida para nosso objetivo, vamos trabalhar no problema de calcular a área de um quadrado/retângulo. \n",
    "\n",
    "Fonte da Imagem: [Casa Madepinus - Planta N.57](https://www.casamadepinus.com.br/planta.php?modelo=49&quartos=6)\n",
    "\n",
    "![Planta_Baixa_Imovel](https://www.casamadepinus.com.br/img/plantas/projetadas/planta-baixa-casa-madepinus-06760894239918968584.png)\n"
   ]
  },
  {
   "cell_type": "markdown",
   "metadata": {
    "id": "SRg_y3nkthgd"
   },
   "source": [
    "Podemos começar fazendo o cálculo direto (base * altura). Com isso, teremos a área daquela região"
   ]
  },
  {
   "cell_type": "code",
   "execution_count": null,
   "metadata": {
    "id": "xKFA9SulqLNz"
   },
   "outputs": [],
   "source": [
    "#Banheiro\n",
    "print(2.40 * 1.20)\n"
   ]
  },
  {
   "cell_type": "code",
   "execution_count": null,
   "metadata": {
    "id": "KlqTkoXsto8P"
   },
   "outputs": [],
   "source": [
    "#Quarto 1\n",
    "print(3.0 * 2.5)\n",
    "\n",
    "#Quarto 2\n",
    "print(3.0 * 2.5)\n",
    "\n",
    "#Quarto 3\n",
    "print(3.0 * 3.0)\n",
    "\n",
    "#Sala \n",
    "print(4.0 * 3.0)\n",
    "\n",
    "#Cozinha\n",
    "print(4.0 * 3.0)"
   ]
  },
  {
   "cell_type": "markdown",
   "metadata": {
    "id": "05vOH0hWt5rI"
   },
   "source": [
    "E para calcular a área como um todo? Podemos somar todas os cálculos de forma individual..."
   ]
  },
  {
   "cell_type": "code",
   "execution_count": null,
   "metadata": {
    "id": "iCdqiRtMt9t5"
   },
   "outputs": [],
   "source": [
    "print((2.40 * 1.20) + (3.0 * 2.5) + (3.0 * 2.5) + (3.0 * 3.0) + (4.0 * 3.0) + (4.0 * 3.0))"
   ]
  },
  {
   "cell_type": "markdown",
   "metadata": {
    "id": "FFGqDkkQy2w9"
   },
   "source": [
    "ou então, seus resultados já calculados"
   ]
  },
  {
   "cell_type": "code",
   "execution_count": null,
   "metadata": {
    "id": "fRqAFiwdt84w"
   },
   "outputs": [],
   "source": [
    "print( 2.88 + 7.5 + 7.5 + 9.0 + 12.0 + 12.0 )"
   ]
  },
  {
   "cell_type": "markdown",
   "metadata": {
    "id": "CM8yD94Et8D-"
   },
   "source": [
    "Será que podemos reaproveitar estes números para trabalharmos com eles no futuro? Sim, isso é possível armazenamento os valores em variáveis\n"
   ]
  },
  {
   "cell_type": "code",
   "execution_count": null,
   "metadata": {
    "id": "gDpVzzsnufDU"
   },
   "outputs": [],
   "source": [
    "Banheiro = 2.40 * 1.20\n",
    "Quarto_1 = 3.0 * 2.5\n",
    "Quarto_2 = 3.0 * 2.5\n",
    "Quarto_3 = 3.0 * 3.0\n",
    "Sala = 4.0 * 3.0\n",
    "Cozinha = 4.0 * 3.0\n",
    "\n",
    "Area_Total = Banheiro + Quarto_1 + Quarto_2 + Quarto_3 + Sala + Cozinha"
   ]
  },
  {
   "cell_type": "code",
   "execution_count": null,
   "metadata": {
    "id": "6tUwW-V3uzpY"
   },
   "outputs": [],
   "source": [
    "print(\"Área Total:\", Area_Total)\n",
    "\n",
    "print(\"Área Total:\", '%0.2f'%Area_Total)"
   ]
  },
  {
   "cell_type": "markdown",
   "metadata": {
    "id": "BcBuDqJQu5mm"
   },
   "source": [
    "## Incluindo valores no dicionário\n",
    "\n",
    "> O que é um dicionário? \"é uma coleção desordenada, mutável e indexada. Nenhum membro duplicado\"\n"
   ]
  },
  {
   "cell_type": "markdown",
   "metadata": {},
   "source": [
    "Crie um dicionário para esta casa, com os cômodos recebendo o valor das variáveis que armazenam a área daquele cômodo. Lembrando que a estrutura de um dicionário é CHAVE:VALOR"
   ]
  },
  {
   "cell_type": "code",
   "execution_count": null,
   "metadata": {
    "id": "2obBZvu0u-_V"
   },
   "outputs": [],
   "source": []
  },
  {
   "cell_type": "markdown",
   "metadata": {
    "id": "B7_uudsRzZXG"
   },
   "source": [
    "Neste dicionário da Casa, é possível retornar os elementos chave?"
   ]
  },
  {
   "cell_type": "code",
   "execution_count": null,
   "metadata": {
    "id": "-zg2XOqSvFgh"
   },
   "outputs": [],
   "source": []
  },
  {
   "cell_type": "markdown",
   "metadata": {
    "id": "NzRdAZutzoIV"
   },
   "source": [
    "E o valor dos elementos, será que é possível?"
   ]
  },
  {
   "cell_type": "code",
   "execution_count": null,
   "metadata": {
    "id": "T3pK2r-wziJ_"
   },
   "outputs": [],
   "source": []
  },
  {
   "cell_type": "markdown",
   "metadata": {
    "id": "o-pVS3ft0FCG"
   },
   "source": [
    "Já sabemos retornar os elementos chaves e os valores de um dicionário...\n",
    "\n",
    "Como fazer para retornar um valor específico de um elemento a partir da chave?\n"
   ]
  },
  {
   "cell_type": "code",
   "execution_count": null,
   "metadata": {
    "id": "Tq2tTVuTvFKS"
   },
   "outputs": [],
   "source": [
    "#print(Casa['Sala'])\n",
    "#print(\"Quarto 2 =\", '%0.2f'%Casa['Quarto 2'])"
   ]
  },
  {
   "cell_type": "markdown",
   "metadata": {
    "id": "jSKsLj-Bvhdg"
   },
   "source": [
    "E seguindo essa lógica dos dicionários, é possível criar um dicionário com outros dicionários dentro?"
   ]
  },
  {
   "cell_type": "code",
   "execution_count": null,
   "metadata": {
    "id": "6SLOrrq6vzeZ"
   },
   "outputs": [],
   "source": []
  },
  {
   "cell_type": "code",
   "execution_count": null,
   "metadata": {
    "id": "fANvQS-qvn9_"
   },
   "outputs": [],
   "source": []
  },
  {
   "cell_type": "code",
   "execution_count": null,
   "metadata": {
    "id": "XCiLVfZavwVV"
   },
   "outputs": [],
   "source": []
  },
  {
   "cell_type": "code",
   "execution_count": null,
   "metadata": {
    "id": "7CaBGRTOvz7o"
   },
   "outputs": [],
   "source": []
  },
  {
   "cell_type": "code",
   "execution_count": null,
   "metadata": {
    "id": "Gw-deAgGv0PI"
   },
   "outputs": [],
   "source": []
  },
  {
   "cell_type": "markdown",
   "metadata": {
    "id": "0ShYodx3wHUl"
   },
   "source": [
    "E como fazer para percorrer todos os itens do dicionário?\n"
   ]
  },
  {
   "cell_type": "code",
   "execution_count": null,
   "metadata": {
    "id": "ErZyAgd4wLl9"
   },
   "outputs": [],
   "source": []
  },
  {
   "cell_type": "code",
   "execution_count": null,
   "metadata": {
    "id": "lu2Ab96uwQnZ"
   },
   "outputs": [],
   "source": []
  },
  {
   "cell_type": "code",
   "execution_count": null,
   "metadata": {
    "id": "s1bW3l5VwXMN"
   },
   "outputs": [],
   "source": []
  },
  {
   "cell_type": "markdown",
   "metadata": {
    "id": "8evbyJT6wsB5"
   },
   "source": [
    "## Reuso dos códigos"
   ]
  },
  {
   "cell_type": "markdown",
   "metadata": {
    "id": "qfSA9QylwvDa"
   },
   "source": [
    "Criação de função"
   ]
  },
  {
   "cell_type": "markdown",
   "metadata": {},
   "source": [
    "Crie uma função que recebe, por parâmetro, a base e altura e faça o cálculo da área"
   ]
  },
  {
   "cell_type": "code",
   "execution_count": null,
   "metadata": {
    "id": "wzIkKA8Xwwea"
   },
   "outputs": [],
   "source": [
    "#def calcular_area(base, altura):\n",
    "\n"
   ]
  },
  {
   "cell_type": "code",
   "execution_count": null,
   "metadata": {
    "id": "5-gwyLm_wy6L"
   },
   "outputs": [],
   "source": [
    "calcular_area(2.5,3)\n",
    "#Resposta deve ser 7.5"
   ]
  },
  {
   "cell_type": "markdown",
   "metadata": {},
   "source": [
    "Crie uma função que recebe, por parâmetro, o nome do imóvel e retorne o cálculo da área total do imóvel"
   ]
  },
  {
   "cell_type": "code",
   "execution_count": null,
   "metadata": {
    "id": "aRzXeGGrw3Uj"
   },
   "outputs": [],
   "source": [
    "#def calcular_area_imovel(nome_imovel):\n",
    "  "
   ]
  },
  {
   "cell_type": "code",
   "execution_count": null,
   "metadata": {
    "id": "BaXuGpDZw240"
   },
   "outputs": [],
   "source": [
    "calcular_area_imovel('Casa 2')\n",
    "#Resposta deve ser 50.879999999999995"
   ]
  },
  {
   "cell_type": "markdown",
   "metadata": {},
   "source": [
    "Crie uma função que recebe, por parâmetro, o nome, endereço e os cômodos do imóvel, e insira no dicionário"
   ]
  },
  {
   "cell_type": "code",
   "execution_count": null,
   "metadata": {
    "id": "dHFH-_340uxm"
   },
   "outputs": [],
   "source": [
    "#def adicionar_casa(nome_casa, endereco_casa, comodos_casa):\n"
   ]
  },
  {
   "cell_type": "markdown",
   "metadata": {},
   "source": [
    "Crie uma função que retorne todas as chaves do dicionário de casas"
   ]
  },
  {
   "cell_type": "code",
   "execution_count": null,
   "metadata": {
    "id": "hzm8EvWU37A-"
   },
   "outputs": [],
   "source": [
    "#def retornar_casas():\n"
   ]
  },
  {
   "cell_type": "markdown",
   "metadata": {
    "id": "iXKxvaPSw_Jk"
   },
   "source": [
    "## Interagindo com listas"
   ]
  },
  {
   "cell_type": "markdown",
   "metadata": {
    "id": "wxPzScMcxUO7"
   },
   "source": [
    "> O que é uma lista? \"É uma coleção ordenada e mutável. Permite membros  duplicados\"\n"
   ]
  },
  {
   "cell_type": "code",
   "execution_count": null,
   "metadata": {
    "id": "oVAKmJkExB-x"
   },
   "outputs": [],
   "source": [
    "lista_de_elementos = ['Banheiro', 'Quarto 1', 'Quarto 2', 'Quarto 3', 'Sala', 'Cozinha']\n"
   ]
  },
  {
   "cell_type": "code",
   "execution_count": null,
   "metadata": {
    "id": "yfKkxIML1hUw"
   },
   "outputs": [],
   "source": [
    "len(lista_de_elementos)\n"
   ]
  },
  {
   "cell_type": "code",
   "execution_count": null,
   "metadata": {
    "id": "U2bf2z8x17cX"
   },
   "outputs": [],
   "source": [
    "lista_de_elementos.sort()\n",
    "print(lista_de_elementos)"
   ]
  },
  {
   "cell_type": "code",
   "execution_count": null,
   "metadata": {
    "id": "TS3sdaNq1-BJ"
   },
   "outputs": [],
   "source": [
    "lista_de_elementos[1] = 'PISCINA'\n",
    "print(lista_de_elementos)"
   ]
  },
  {
   "cell_type": "code",
   "execution_count": null,
   "metadata": {
    "id": "XWv74ob02PH8"
   },
   "outputs": [],
   "source": [
    "#lista_comodos.index('Quarto') #dá erro porque não existe o elemento \"Quarto\"\n",
    "lista_de_elementos.index('Quarto 1')\n",
    "lista_de_elementos[2]"
   ]
  },
  {
   "cell_type": "code",
   "execution_count": null,
   "metadata": {
    "id": "fNO1TlCc2yym"
   },
   "outputs": [],
   "source": [
    "lista_de_elementos.append('AREA DE SERVIÇO')\n",
    "print(lista_de_elementos)"
   ]
  },
  {
   "cell_type": "markdown",
   "metadata": {},
   "source": [
    "Crie três listas, um com os cômodos, outra com a base e a terceira com a altura. Crie uma terceira lista vazia e utilize as listas anteriores para calcular a área do cômodo"
   ]
  },
  {
   "cell_type": "code",
   "execution_count": null,
   "metadata": {
    "id": "10eCY3rixOEa"
   },
   "outputs": [],
   "source": []
  },
  {
   "cell_type": "markdown",
   "metadata": {},
   "source": [
    "Crie um dicionário chamado novaCasa e adicione os cômodos e suas respectivas área neste dicionário"
   ]
  },
  {
   "cell_type": "code",
   "execution_count": null,
   "metadata": {
    "id": "oEEpQmd3xm9S"
   },
   "outputs": [],
   "source": []
  },
  {
   "cell_type": "markdown",
   "metadata": {},
   "source": [
    "Insira o dicionário novaCasa ao dicionário que tem todas as suas casas, complementando com um nome e um endereço "
   ]
  },
  {
   "cell_type": "code",
   "execution_count": null,
   "metadata": {
    "id": "PxzuwwU5x3n5"
   },
   "outputs": [],
   "source": []
  },
  {
   "cell_type": "markdown",
   "metadata": {
    "id": "t6oOlaD9x_Fb"
   },
   "source": [
    "Repita o processo (com novo nome e endereço), mas utilizando a função **adicionar_casa** criada anteriormente"
   ]
  },
  {
   "cell_type": "code",
   "execution_count": null,
   "metadata": {
    "id": "CbNW6atByE4k"
   },
   "outputs": [],
   "source": []
  },
  {
   "cell_type": "markdown",
   "metadata": {},
   "source": [
    "Chame a função **calcular_area_imovel** criada anterior"
   ]
  },
  {
   "cell_type": "code",
   "execution_count": null,
   "metadata": {
    "id": "FjkVFyxgyEw6"
   },
   "outputs": [],
   "source": []
  },
  {
   "cell_type": "markdown",
   "metadata": {},
   "source": [
    "Chame a função **retornar_casas** criada anterior"
   ]
  },
  {
   "cell_type": "code",
   "execution_count": null,
   "metadata": {
    "id": "x2IWcqjh4ATo"
   },
   "outputs": [],
   "source": []
  }
 ],
 "metadata": {
  "colab": {
   "name": "Calculo_Area_Imovel_Explicado.ipynb",
   "provenance": []
  },
  "kernelspec": {
   "display_name": "Python 3",
   "language": "python",
   "name": "python3"
  },
  "language_info": {
   "codemirror_mode": {
    "name": "ipython",
    "version": 3
   },
   "file_extension": ".py",
   "mimetype": "text/x-python",
   "name": "python",
   "nbconvert_exporter": "python",
   "pygments_lexer": "ipython3",
   "version": "3.9.0"
  }
 },
 "nbformat": 4,
 "nbformat_minor": 1
}
