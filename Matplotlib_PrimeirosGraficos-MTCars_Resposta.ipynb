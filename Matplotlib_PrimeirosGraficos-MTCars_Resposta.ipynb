{
 "cells": [
  {
   "cell_type": "markdown",
   "metadata": {},
   "source": [
    "# Geração de gráficos para entender uma base de dados"
   ]
  },
  {
   "cell_type": "markdown",
   "metadata": {},
   "source": [
    "## Importação dos pacotes necessários - Pandas e MatPlotLib"
   ]
  },
  {
   "cell_type": "markdown",
   "metadata": {},
   "source": [
    "A primeira coisa a ser feita é carregar os pacotes necessários para gerar as visualizações. Lembrando que estes pacotes devem ter sido instalados antes (pode-se usar o pip install para instalar os pacotes)."
   ]
  },
  {
   "cell_type": "code",
   "execution_count": null,
   "metadata": {},
   "outputs": [],
   "source": [
    "import pandas as pd"
   ]
  },
  {
   "cell_type": "code",
   "execution_count": null,
   "metadata": {},
   "outputs": [],
   "source": [
    "import matplotlib.pyplot as plt"
   ]
  },
  {
   "cell_type": "markdown",
   "metadata": {},
   "source": [
    "Com o Pandas já carregado, é hora de criar um dataframe para a base **MTCars** https://stat.ethz.ch/R-manual/R-devel/library/datasets/html/mtcars.html"
   ]
  },
  {
   "cell_type": "code",
   "execution_count": null,
   "metadata": {},
   "outputs": [],
   "source": [
    "df = pd.read_csv(\"MTCars.csv\")"
   ]
  },
  {
   "cell_type": "markdown",
   "metadata": {},
   "source": [
    "## Entendendo a base de dados "
   ]
  },
  {
   "cell_type": "markdown",
   "metadata": {},
   "source": [
    "Observar a estrutura do dataset"
   ]
  },
  {
   "cell_type": "code",
   "execution_count": null,
   "metadata": {},
   "outputs": [],
   "source": [
    "df.info()"
   ]
  },
  {
   "cell_type": "markdown",
   "metadata": {},
   "source": [
    "Observar os primeiros registros do dataset"
   ]
  },
  {
   "cell_type": "code",
   "execution_count": null,
   "metadata": {},
   "outputs": [],
   "source": [
    "df.head()"
   ]
  },
  {
   "cell_type": "markdown",
   "metadata": {},
   "source": [
    "Observar os primeiros registros do dataset"
   ]
  },
  {
   "cell_type": "code",
   "execution_count": null,
   "metadata": {},
   "outputs": [],
   "source": [
    "df.tail()"
   ]
  },
  {
   "cell_type": "markdown",
   "metadata": {},
   "source": [
    "## Plotagem de gráficos"
   ]
  },
  {
   "cell_type": "markdown",
   "metadata": {},
   "source": [
    "Gráfico de dispersão com as variáveis **wt** e **mpg**"
   ]
  },
  {
   "cell_type": "code",
   "execution_count": null,
   "metadata": {},
   "outputs": [],
   "source": [
    "plt.figure(figsize=(15,8))\n",
    "plt.scatter(df['wt'],df['mpg']);"
   ]
  },
  {
   "cell_type": "markdown",
   "metadata": {},
   "source": [
    "Adicionando **Título**, **Suptítulo** e **rótulos dos eixos**"
   ]
  },
  {
   "cell_type": "code",
   "execution_count": null,
   "metadata": {},
   "outputs": [],
   "source": [
    "plt.figure(figsize=(15,8))\n",
    "plt.scatter(df['wt'],df['mpg']);\n",
    "\n",
    "plt.title(\"Motor Trend car Road Test\")\n",
    "plt.suptitle(\"Dados de 1974  Motor Trend US Magazine\")\n",
    "plt.xlabel(\"Peso do Carro\")\n",
    "plt.ylabel( \"Milhas por Galão\")"
   ]
  },
  {
   "cell_type": "markdown",
   "metadata": {},
   "source": [
    "Inserindo cores a partir de uma variável, e vamos usar a variável **gear**"
   ]
  },
  {
   "cell_type": "code",
   "execution_count": null,
   "metadata": {},
   "outputs": [],
   "source": [
    "plt.figure(figsize=(15,8))\n",
    "\n",
    "cores = {3:'tab:cyan',4:'tab:purple',5:'tab:green'}\n",
    "\n",
    "for cambio in df['gear'].unique():\n",
    "    tmp = df[df['gear'] == cambio]\n",
    "    plt.scatter(tmp['wt'], tmp['mpg'], color=cores[cambio] )\n",
    "\n",
    "\n",
    "plt.title(\"Motor Trend car Road Test\")\n",
    "plt.suptitle(\"Dados de 1974  Motor Trend US Magazine\")\n",
    "plt.xlabel(\"Peso do Carro\")\n",
    "plt.ylabel( \"Milhas por Galão\")\n",
    "\n"
   ]
  },
  {
   "cell_type": "markdown",
   "metadata": {},
   "source": [
    "Inserindo marcadores a partir de uma variável, e novamente, vamos usar a variável **gear** para isso"
   ]
  },
  {
   "cell_type": "code",
   "execution_count": null,
   "metadata": {},
   "outputs": [],
   "source": [
    "plt.figure(figsize=(15,8))\n",
    "\n",
    "cores = {3:'tab:cyan',4:'tab:purple',5:'tab:green'}\n",
    "marcadores = {3:'^',4:'s',5:'D'}\n",
    "\n",
    "\n",
    "for cambio in df['gear'].unique():\n",
    "    tmp = df[df['gear'] == cambio]\n",
    "    plt.scatter(tmp['wt'], tmp['mpg'], color=cores[cambio],\n",
    "                marker=marcadores[cambio], s=100)\n",
    "\n",
    "\n",
    "plt.title(\"Motor Trend car Road Test\")\n",
    "plt.suptitle(\"Dados de 1974  Motor Trend US Magazine\")\n",
    "plt.xlabel(\"Peso do Carro\")\n",
    "plt.ylabel( \"Milhas por Galão\")\n"
   ]
  },
  {
   "cell_type": "markdown",
   "metadata": {},
   "source": [
    "Histograma de uma variável, para isso, vamos usar a variável **mpg**"
   ]
  },
  {
   "cell_type": "code",
   "execution_count": null,
   "metadata": {},
   "outputs": [],
   "source": [
    "plt.figure(figsize=(15,8))\n",
    "plt.hist(df['mpg'], edgecolor=\"black\");\n",
    "\n",
    "plt.title(\"Histograma de MPG\", fontsize=20)\n",
    "plt.xlabel(\"Milhas por Galão\", fontsize=15)\n",
    "plt.ylabel(\"Frequência\", fontsize=15)"
   ]
  },
  {
   "cell_type": "markdown",
   "metadata": {},
   "source": [
    "Histograma com os dados normalizados, e mais uma vez, utilizaremos a variável **mpg**"
   ]
  },
  {
   "cell_type": "code",
   "execution_count": null,
   "metadata": {},
   "outputs": [],
   "source": [
    "plt.figure(figsize=(15,8))\n",
    "plt.hist(df['mpg'], edgecolor=\"black\", density=True)"
   ]
  },
  {
   "cell_type": "markdown",
   "metadata": {},
   "source": [
    "Histograma impresso na horizontal (variável **mpg**)"
   ]
  },
  {
   "cell_type": "code",
   "execution_count": null,
   "metadata": {},
   "outputs": [],
   "source": [
    "plt.figure(figsize=(15,8))\n",
    "plt.hist(df['mpg'], edgecolor=\"black\", orientation=\"horizontal\")"
   ]
  },
  {
   "cell_type": "markdown",
   "metadata": {},
   "source": [
    "Duas linhas verticais, a partir de valores calculados. São cálculos de Média e Mediana, a partir da variável **mpg**"
   ]
  },
  {
   "cell_type": "code",
   "execution_count": null,
   "metadata": {},
   "outputs": [],
   "source": [
    "plt.figure(figsize=(15,8))\n",
    "\n",
    "cores = [\"orange\",\"purple\"]\n",
    "legenda = [\"Média\",\"Mediana\"]\n",
    "\n",
    "plt.hist(df['mpg'], edgecolor=\"black\");\n",
    "media, mediana = df['mpg'].mean(), df['mpg'].median()\n",
    "plt.axvline(media, color=cores[0], lw=3, ls=\"--\")\n",
    "plt.axvline(mediana, color=cores[1], lw=3, ls=\"--\")\n"
   ]
  },
  {
   "cell_type": "markdown",
   "metadata": {},
   "source": [
    "Adicionando legenda no gráfico"
   ]
  },
  {
   "cell_type": "code",
   "execution_count": null,
   "metadata": {},
   "outputs": [],
   "source": [
    "plt.figure(figsize=(15,8))\n",
    "\n",
    "cores = [\"orange\",\"purple\"]\n",
    "legenda = [\"Média\",\"Mediana\"]\n",
    "\n",
    "plt.hist(df['mpg'], edgecolor=\"black\");\n",
    "media, mediana = df['mpg'].mean(), df['mpg'].median()\n",
    "plt.axvline(media, color=cores[0], lw=3, ls=\"--\")\n",
    "plt.axvline(mediana, color=cores[1], lw=3, ls=\"--\")\n",
    "\n",
    "plt.legend(legenda, loc=\"upper right\")\n"
   ]
  },
  {
   "cell_type": "markdown",
   "metadata": {},
   "source": [
    "Adicionando anotações ao gráfico, junto às linhas"
   ]
  },
  {
   "cell_type": "code",
   "execution_count": null,
   "metadata": {},
   "outputs": [],
   "source": [
    "plt.figure(figsize=(15,8))\n",
    "\n",
    "cores = [\"orange\",\"purple\"]\n",
    "legenda = [\"Média\",\"Mediana\"]\n",
    "\n",
    "plt.hist(df['mpg'], edgecolor=\"black\");\n",
    "media, mediana = df['mpg'].mean(), df['mpg'].median()\n",
    "plt.axvline(media, color=cores[0], lw=3, ls=\"--\")\n",
    "plt.axvline(mediana, color=cores[1], lw=3, ls=\"--\")\n",
    "\n",
    "plt.legend(legenda, loc=\"upper right\")\n",
    "\n",
    "plt.annotate(legenda[0], xy=(media + 0.5, 6),\n",
    "             color=cores[0], fontsize=20)\n",
    "plt.annotate(legenda[1], xy=(mediana - 3,6),\n",
    "             color=cores[1], fontsize=20)"
   ]
  },
  {
   "cell_type": "markdown",
   "metadata": {},
   "source": [
    "Gráfico de linha, com as variáveis **wt** e **mpg**"
   ]
  },
  {
   "cell_type": "code",
   "execution_count": null,
   "metadata": {},
   "outputs": [],
   "source": [
    "plt.figure(figsize=(15,8))\n",
    "\n",
    "plt.plot(df['wt'], df['mpg'], color=\"green\", ls = \"dotted\")\n",
    "plt.title(\"MTCars\", fontsize=25)\n",
    "plt.xlabel(\"WT\", fontsize=15)\n",
    "plt.ylabel(\"MPG\", fontsize=15)\n",
    "plt.legend([\"WT\"], loc=\"upper right\")"
   ]
  },
  {
   "cell_type": "markdown",
   "metadata": {},
   "source": [
    "Gráfico de linha com limite nos eixos **X** e **Y**, destas mesmas variáveis"
   ]
  },
  {
   "cell_type": "code",
   "execution_count": null,
   "metadata": {},
   "outputs": [],
   "source": [
    "plt.figure(figsize=(15,8))\n",
    "\n",
    "plt.plot(df['wt'], df['mpg'], color=\"green\", ls = \"dotted\")\n",
    "\n",
    "plt.xlim(2,5)\n",
    "plt.ylim(20,25)\n",
    "\n",
    "plt.title(\"MTCars\", fontsize=20)\n",
    "plt.xlabel(\"WT\", fontsize=15)\n",
    "plt.ylabel(\"MPG\", fontsize=15)\n",
    "plt.legend([\"WT\"], loc=\"upper right\")"
   ]
  },
  {
   "cell_type": "markdown",
   "metadata": {},
   "source": [
    "Cores das linhas e marcadores, a partir de valores da variável"
   ]
  },
  {
   "cell_type": "code",
   "execution_count": null,
   "metadata": {
    "scrolled": true
   },
   "outputs": [],
   "source": [
    "plt.figure(figsize=(8,4.5))\n",
    "\n",
    "menor_3 = df[\"wt\"] < 3\n",
    "maior_4 = df[\"wt\"] > 4\n",
    "\n",
    "plt.plot(df['wt'], df['mpg'], color=\"green\", ls = \"dotted\"\n",
    "         , marker = \"o\")\n",
    "plt.plot(df[menor_3]['wt'],df[menor_3]['mpg'],color=\"blue\"\n",
    "         , ls = \"dotted\", marker = \"o\")\n",
    "plt.plot(df[maior_4]['wt'],df[maior_4]['mpg'],color=\"blue\"\n",
    "         , ls = \"dotted\", marker = \"o\")\n",
    "plt.title(\"MTCars\", fontsize=25)\n",
    "plt.xlabel(\"WT\", fontsize=20)\n",
    "plt.ylabel(\"MPG\", fontsize=20)\n",
    "plt.legend([\"WT\"], loc=\"upper right\", fontsize=15);\n",
    "\n",
    "\n"
   ]
  },
  {
   "cell_type": "markdown",
   "metadata": {},
   "source": [
    "Linhas horizontais com valores calculados"
   ]
  },
  {
   "cell_type": "code",
   "execution_count": null,
   "metadata": {},
   "outputs": [],
   "source": [
    "plt.figure(figsize=(15,8))\n",
    "\n",
    "plt.plot(df['wt'], df['mpg'], color=\"green\", ls = \"dotted\", marker = \"o\")\n",
    "plt.title(\"MTCars\", fontsize=25)\n",
    "plt.xlabel(\"WT\", fontsize=20)\n",
    "plt.ylabel(\"MPG\", fontsize=20)\n",
    "plt.legend([\"WT\"], loc=\"upper right\", fontsize=15)\n",
    "\n",
    "plt.axhline(max(df['mpg']), color=\"orange\", lw=3, ls=\"--\")\n",
    "plt.axhline(min(df['mpg']), color=\"orange\", lw=3, ls='--')\n"
   ]
  },
  {
   "cell_type": "markdown",
   "metadata": {},
   "source": [
    "Adicionando anotações no gráfico"
   ]
  },
  {
   "cell_type": "code",
   "execution_count": null,
   "metadata": {},
   "outputs": [],
   "source": [
    "plt.figure(figsize=(15,8))\n",
    "\n",
    "plt.plot(df['wt'], df['mpg'], color=\"green\", ls = \"dotted\", marker = \"o\")\n",
    "plt.title(\"MTCars\", fontsize=25)\n",
    "plt.xlabel(\"WT\", fontsize=20)\n",
    "plt.ylabel(\"MPG\", fontsize=20)\n",
    "plt.legend([\"WT\"], loc=\"upper right\", fontsize=15)\n",
    "\n",
    "plt.axhline(max(df['mpg']), color=\"orange\", lw=3, ls=\"--\")\n",
    "plt.axhline(min(df['mpg']), color=\"purple\", lw=3, ls='--')\n",
    "\n",
    "x_max = df['wt'][df['mpg'].idxmax()]\n",
    "y_max = max(df['mpg'])\n",
    "plt.annotate(\"Max\", xy=(x_max,y_max), color=\"orange\", fontsize=15)\n",
    "\n",
    "x_min = df['wt'][df['mpg'].idxmin()]\n",
    "y_min = min(df['mpg'])\n",
    "plt.annotate(\"Min\", xy=(x_min,y_min), color=\"purple\", fontsize=15)\n",
    "\n",
    "\n"
   ]
  },
  {
   "cell_type": "markdown",
   "metadata": {},
   "source": [
    "Deslocando o texto das anotações e inserindo uma seta"
   ]
  },
  {
   "cell_type": "code",
   "execution_count": null,
   "metadata": {},
   "outputs": [],
   "source": [
    "plt.figure(figsize=(15,8))\n",
    "\n",
    "plt.plot(df['wt'], df['mpg'], color=\"green\", ls = \"dotted\", marker = \"o\")\n",
    "plt.title(\"MTCars\", fontsize=25)\n",
    "plt.xlabel(\"WT\", fontsize=20)\n",
    "plt.ylabel(\"MPG\", fontsize=20)\n",
    "plt.legend([\"WT\"], loc=\"upper right\", fontsize=15)\n",
    "\n",
    "plt.axhline(max(df['mpg']), color=\"orange\", lw=3, ls=\"--\")\n",
    "plt.axhline(min(df['mpg']), color=\"purple\", lw=3, ls='--')\n",
    "\n",
    "x_max = df['wt'][df['mpg'].idxmax()]\n",
    "y_max = max(df['mpg'])\n",
    "\n",
    "xt_max = df['wt'][df['mpg'].idxmax()] + 0.5\n",
    "yt_max = max(df['mpg']) - 5\n",
    "\n",
    "plt.annotate(\"Max\", xy=(x_max,y_max), color=\"orange\",\n",
    "             fontsize=15,xytext=(xt_max,yt_max), arrowprops=dict(facecolor=\"orange\") )\n",
    "\n",
    "\n",
    "\n",
    "x_min = df['wt'][df['mpg'].idxmin()]\n",
    "y_min = min(df['mpg'])\n",
    "\n",
    "xt_min = df['wt'][df['mpg'].idxmin()] - 0.5\n",
    "yt_min = min(df['mpg']) + 5\n",
    "\n",
    "plt.annotate(\"Min\", xy=(x_min,y_min), color=\"purple\", fontsize=15,\n",
    "            xytext=(xt_min,yt_min), arrowprops=dict(facecolor=\"purple\"))\n"
   ]
  },
  {
   "cell_type": "markdown",
   "metadata": {},
   "source": [
    "Diagrama de Caixa simples"
   ]
  },
  {
   "cell_type": "code",
   "execution_count": null,
   "metadata": {},
   "outputs": [],
   "source": [
    "plt.figure(figsize=(15,8))\n",
    "\n",
    "box = df.boxplot(column=\"mpg\", \n",
    "                 grid=False, return_type=None)"
   ]
  },
  {
   "cell_type": "markdown",
   "metadata": {},
   "source": [
    "Diagrama de caixa com uma variável segmentando as caixas"
   ]
  },
  {
   "cell_type": "code",
   "execution_count": null,
   "metadata": {},
   "outputs": [],
   "source": [
    "box = df.boxplot(column=\"mpg\", by=\"cyl\",grid=False, return_type=None)\n",
    "plt.suptitle(\"\")\n",
    "plt.title(\"Boxplot - MPG\")"
   ]
  }
 ],
 "metadata": {
  "kernelspec": {
   "display_name": "Python 3",
   "language": "python",
   "name": "python3"
  },
  "language_info": {
   "codemirror_mode": {
    "name": "ipython",
    "version": 3
   },
   "file_extension": ".py",
   "mimetype": "text/x-python",
   "name": "python",
   "nbconvert_exporter": "python",
   "pygments_lexer": "ipython3",
   "version": "3.9.0"
  }
 },
 "nbformat": 4,
 "nbformat_minor": 4
}
